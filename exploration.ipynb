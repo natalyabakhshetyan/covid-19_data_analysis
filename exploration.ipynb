{
 "cells": [
  {
   "cell_type": "code",
   "execution_count": 1,
   "metadata": {},
   "outputs": [],
   "source": [
    "import pandas as pd"
   ]
  },
  {
   "cell_type": "markdown",
   "metadata": {},
   "source": [
    "## Health conditions and contributing causes mentioned in conjunction with deaths involving coronavirus disease 2019 (COVID-19)"
   ]
  },
  {
   "cell_type": "code",
   "execution_count": 2,
   "metadata": {},
   "outputs": [],
   "source": [
    "conditions = pd.read_csv('covid_conditions.csv')"
   ]
  },
  {
   "cell_type": "code",
   "execution_count": 3,
   "metadata": {},
   "outputs": [
    {
     "data": {
      "text/html": [
       "<div>\n",
       "<style scoped>\n",
       "    .dataframe tbody tr th:only-of-type {\n",
       "        vertical-align: middle;\n",
       "    }\n",
       "\n",
       "    .dataframe tbody tr th {\n",
       "        vertical-align: top;\n",
       "    }\n",
       "\n",
       "    .dataframe thead th {\n",
       "        text-align: right;\n",
       "    }\n",
       "</style>\n",
       "<table border=\"1\" class=\"dataframe\">\n",
       "  <thead>\n",
       "    <tr style=\"text-align: right;\">\n",
       "      <th></th>\n",
       "      <th>Data as of</th>\n",
       "      <th>Start Week</th>\n",
       "      <th>End Week</th>\n",
       "      <th>State</th>\n",
       "      <th>Condition Group</th>\n",
       "      <th>Condition</th>\n",
       "      <th>ICD10_codes</th>\n",
       "      <th>Age Group</th>\n",
       "      <th>Number of COVID-19 Deaths</th>\n",
       "      <th>Flag</th>\n",
       "    </tr>\n",
       "  </thead>\n",
       "  <tbody>\n",
       "    <tr>\n",
       "      <th>0</th>\n",
       "      <td>08/16/2020</td>\n",
       "      <td>02/01/2020</td>\n",
       "      <td>08/15/2020</td>\n",
       "      <td>US</td>\n",
       "      <td>Respiratory diseases</td>\n",
       "      <td>Influenza and pneumonia</td>\n",
       "      <td>J09-J18</td>\n",
       "      <td>0-24</td>\n",
       "      <td>102.0</td>\n",
       "      <td>NaN</td>\n",
       "    </tr>\n",
       "    <tr>\n",
       "      <th>1</th>\n",
       "      <td>08/16/2020</td>\n",
       "      <td>02/01/2020</td>\n",
       "      <td>08/15/2020</td>\n",
       "      <td>US</td>\n",
       "      <td>Respiratory diseases</td>\n",
       "      <td>Influenza and pneumonia</td>\n",
       "      <td>J09-J18</td>\n",
       "      <td>25-34</td>\n",
       "      <td>532.0</td>\n",
       "      <td>NaN</td>\n",
       "    </tr>\n",
       "    <tr>\n",
       "      <th>2</th>\n",
       "      <td>08/16/2020</td>\n",
       "      <td>02/01/2020</td>\n",
       "      <td>08/15/2020</td>\n",
       "      <td>US</td>\n",
       "      <td>Respiratory diseases</td>\n",
       "      <td>Influenza and pneumonia</td>\n",
       "      <td>J09-J18</td>\n",
       "      <td>35-44</td>\n",
       "      <td>1346.0</td>\n",
       "      <td>NaN</td>\n",
       "    </tr>\n",
       "    <tr>\n",
       "      <th>3</th>\n",
       "      <td>08/16/2020</td>\n",
       "      <td>02/01/2020</td>\n",
       "      <td>08/15/2020</td>\n",
       "      <td>US</td>\n",
       "      <td>Respiratory diseases</td>\n",
       "      <td>Influenza and pneumonia</td>\n",
       "      <td>J09-J18</td>\n",
       "      <td>45-54</td>\n",
       "      <td>3710.0</td>\n",
       "      <td>NaN</td>\n",
       "    </tr>\n",
       "    <tr>\n",
       "      <th>4</th>\n",
       "      <td>08/16/2020</td>\n",
       "      <td>02/01/2020</td>\n",
       "      <td>08/15/2020</td>\n",
       "      <td>US</td>\n",
       "      <td>Respiratory diseases</td>\n",
       "      <td>Influenza and pneumonia</td>\n",
       "      <td>J09-J18</td>\n",
       "      <td>55-64</td>\n",
       "      <td>8890.0</td>\n",
       "      <td>NaN</td>\n",
       "    </tr>\n",
       "  </tbody>\n",
       "</table>\n",
       "</div>"
      ],
      "text/plain": [
       "   Data as of  Start Week    End Week State       Condition Group  \\\n",
       "0  08/16/2020  02/01/2020  08/15/2020    US  Respiratory diseases   \n",
       "1  08/16/2020  02/01/2020  08/15/2020    US  Respiratory diseases   \n",
       "2  08/16/2020  02/01/2020  08/15/2020    US  Respiratory diseases   \n",
       "3  08/16/2020  02/01/2020  08/15/2020    US  Respiratory diseases   \n",
       "4  08/16/2020  02/01/2020  08/15/2020    US  Respiratory diseases   \n",
       "\n",
       "                 Condition ICD10_codes Age Group  Number of COVID-19 Deaths  \\\n",
       "0  Influenza and pneumonia     J09-J18      0-24                      102.0   \n",
       "1  Influenza and pneumonia     J09-J18     25-34                      532.0   \n",
       "2  Influenza and pneumonia     J09-J18     35-44                     1346.0   \n",
       "3  Influenza and pneumonia     J09-J18     45-54                     3710.0   \n",
       "4  Influenza and pneumonia     J09-J18     55-64                     8890.0   \n",
       "\n",
       "  Flag  \n",
       "0  NaN  \n",
       "1  NaN  \n",
       "2  NaN  \n",
       "3  NaN  \n",
       "4  NaN  "
      ]
     },
     "execution_count": 3,
     "metadata": {},
     "output_type": "execute_result"
    }
   ],
   "source": [
    "#dataset structure\n",
    "conditions.head()"
   ]
  },
  {
   "cell_type": "code",
   "execution_count": 4,
   "metadata": {},
   "outputs": [
    {
     "data": {
      "text/html": [
       "<div>\n",
       "<style scoped>\n",
       "    .dataframe tbody tr th:only-of-type {\n",
       "        vertical-align: middle;\n",
       "    }\n",
       "\n",
       "    .dataframe tbody tr th {\n",
       "        vertical-align: top;\n",
       "    }\n",
       "\n",
       "    .dataframe thead th {\n",
       "        text-align: right;\n",
       "    }\n",
       "</style>\n",
       "<table border=\"1\" class=\"dataframe\">\n",
       "  <thead>\n",
       "    <tr style=\"text-align: right;\">\n",
       "      <th></th>\n",
       "      <th>data_as_of</th>\n",
       "      <th>start_week</th>\n",
       "      <th>end_week</th>\n",
       "      <th>state</th>\n",
       "      <th>condition_group</th>\n",
       "      <th>condition</th>\n",
       "      <th>icd10_codes</th>\n",
       "      <th>age_group</th>\n",
       "      <th>number_of_covid_19_deaths</th>\n",
       "      <th>flag</th>\n",
       "    </tr>\n",
       "  </thead>\n",
       "  <tbody>\n",
       "    <tr>\n",
       "      <th>0</th>\n",
       "      <td>08/16/2020</td>\n",
       "      <td>02/01/2020</td>\n",
       "      <td>08/15/2020</td>\n",
       "      <td>US</td>\n",
       "      <td>Respiratory diseases</td>\n",
       "      <td>Influenza and pneumonia</td>\n",
       "      <td>J09-J18</td>\n",
       "      <td>0-24</td>\n",
       "      <td>102.0</td>\n",
       "      <td>NaN</td>\n",
       "    </tr>\n",
       "    <tr>\n",
       "      <th>1</th>\n",
       "      <td>08/16/2020</td>\n",
       "      <td>02/01/2020</td>\n",
       "      <td>08/15/2020</td>\n",
       "      <td>US</td>\n",
       "      <td>Respiratory diseases</td>\n",
       "      <td>Influenza and pneumonia</td>\n",
       "      <td>J09-J18</td>\n",
       "      <td>25-34</td>\n",
       "      <td>532.0</td>\n",
       "      <td>NaN</td>\n",
       "    </tr>\n",
       "    <tr>\n",
       "      <th>2</th>\n",
       "      <td>08/16/2020</td>\n",
       "      <td>02/01/2020</td>\n",
       "      <td>08/15/2020</td>\n",
       "      <td>US</td>\n",
       "      <td>Respiratory diseases</td>\n",
       "      <td>Influenza and pneumonia</td>\n",
       "      <td>J09-J18</td>\n",
       "      <td>35-44</td>\n",
       "      <td>1346.0</td>\n",
       "      <td>NaN</td>\n",
       "    </tr>\n",
       "    <tr>\n",
       "      <th>3</th>\n",
       "      <td>08/16/2020</td>\n",
       "      <td>02/01/2020</td>\n",
       "      <td>08/15/2020</td>\n",
       "      <td>US</td>\n",
       "      <td>Respiratory diseases</td>\n",
       "      <td>Influenza and pneumonia</td>\n",
       "      <td>J09-J18</td>\n",
       "      <td>45-54</td>\n",
       "      <td>3710.0</td>\n",
       "      <td>NaN</td>\n",
       "    </tr>\n",
       "    <tr>\n",
       "      <th>4</th>\n",
       "      <td>08/16/2020</td>\n",
       "      <td>02/01/2020</td>\n",
       "      <td>08/15/2020</td>\n",
       "      <td>US</td>\n",
       "      <td>Respiratory diseases</td>\n",
       "      <td>Influenza and pneumonia</td>\n",
       "      <td>J09-J18</td>\n",
       "      <td>55-64</td>\n",
       "      <td>8890.0</td>\n",
       "      <td>NaN</td>\n",
       "    </tr>\n",
       "  </tbody>\n",
       "</table>\n",
       "</div>"
      ],
      "text/plain": [
       "   data_as_of  start_week    end_week state       condition_group  \\\n",
       "0  08/16/2020  02/01/2020  08/15/2020    US  Respiratory diseases   \n",
       "1  08/16/2020  02/01/2020  08/15/2020    US  Respiratory diseases   \n",
       "2  08/16/2020  02/01/2020  08/15/2020    US  Respiratory diseases   \n",
       "3  08/16/2020  02/01/2020  08/15/2020    US  Respiratory diseases   \n",
       "4  08/16/2020  02/01/2020  08/15/2020    US  Respiratory diseases   \n",
       "\n",
       "                 condition icd10_codes age_group  number_of_covid_19_deaths  \\\n",
       "0  Influenza and pneumonia     J09-J18      0-24                      102.0   \n",
       "1  Influenza and pneumonia     J09-J18     25-34                      532.0   \n",
       "2  Influenza and pneumonia     J09-J18     35-44                     1346.0   \n",
       "3  Influenza and pneumonia     J09-J18     45-54                     3710.0   \n",
       "4  Influenza and pneumonia     J09-J18     55-64                     8890.0   \n",
       "\n",
       "  flag  \n",
       "0  NaN  \n",
       "1  NaN  \n",
       "2  NaN  \n",
       "3  NaN  \n",
       "4  NaN  "
      ]
     },
     "execution_count": 4,
     "metadata": {},
     "output_type": "execute_result"
    }
   ],
   "source": [
    "#rename the columns\n",
    "conditions.columns = ['data_as_of', 'start_week', 'end_week', 'state',\n",
    "                     'condition_group', 'condition', 'icd10_codes', \n",
    "                     'age_group', 'number_of_covid_19_deaths', 'flag']\n",
    "\n",
    "conditions.head()"
   ]
  },
  {
   "cell_type": "markdown",
   "metadata": {},
   "source": [
    "The following is not the total number of deaths (read the dataset documentation for details)."
   ]
  },
  {
   "cell_type": "code",
   "execution_count": 5,
   "metadata": {},
   "outputs": [
    {
     "data": {
      "text/plain": [
       "2310534.0"
      ]
     },
     "execution_count": 5,
     "metadata": {},
     "output_type": "execute_result"
    }
   ],
   "source": [
    " conditions.number_of_covid_19_deaths.sum()"
   ]
  },
  {
   "cell_type": "markdown",
   "metadata": {},
   "source": [
    "There are also rows with number of COVID-19 deaths for all ages."
   ]
  },
  {
   "cell_type": "code",
   "execution_count": 6,
   "metadata": {},
   "outputs": [
    {
     "data": {
      "text/plain": [
       "array(['0-24', '25-34', '35-44', '45-54', '55-64', '65-74', '75-84',\n",
       "       '85+', 'Not stated', 'All ages'], dtype=object)"
      ]
     },
     "execution_count": 6,
     "metadata": {},
     "output_type": "execute_result"
    }
   ],
   "source": [
    "conditions.age_group.unique()"
   ]
  },
  {
   "cell_type": "markdown",
   "metadata": {},
   "source": [
    "Set number of Covid-19 deaths to 5 for the rows with flag \"Counts less than 10 suppressed\""
   ]
  },
  {
   "cell_type": "code",
   "execution_count": 7,
   "metadata": {},
   "outputs": [],
   "source": [
    "conditions.loc[(conditions.number_of_covid_19_deaths.isnull()) & (~conditions.flag.isnull()), 'number_of_covid_19_deaths'] = 5.0"
   ]
  },
  {
   "cell_type": "markdown",
   "metadata": {},
   "source": [
    "Since it is not specified in the documentation what missing counts of death along with missing flags mean, \n",
    "I will leave them as nulls."
   ]
  },
  {
   "cell_type": "code",
   "execution_count": 8,
   "metadata": {},
   "outputs": [
    {
     "data": {
      "text/html": [
       "<div>\n",
       "<style scoped>\n",
       "    .dataframe tbody tr th:only-of-type {\n",
       "        vertical-align: middle;\n",
       "    }\n",
       "\n",
       "    .dataframe tbody tr th {\n",
       "        vertical-align: top;\n",
       "    }\n",
       "\n",
       "    .dataframe thead th {\n",
       "        text-align: right;\n",
       "    }\n",
       "</style>\n",
       "<table border=\"1\" class=\"dataframe\">\n",
       "  <thead>\n",
       "    <tr style=\"text-align: right;\">\n",
       "      <th></th>\n",
       "      <th>data_as_of</th>\n",
       "      <th>start_week</th>\n",
       "      <th>end_week</th>\n",
       "      <th>state</th>\n",
       "      <th>condition_group</th>\n",
       "      <th>condition</th>\n",
       "      <th>icd10_codes</th>\n",
       "      <th>age_group</th>\n",
       "      <th>number_of_covid_19_deaths</th>\n",
       "      <th>flag</th>\n",
       "    </tr>\n",
       "  </thead>\n",
       "  <tbody>\n",
       "    <tr>\n",
       "      <th>12140</th>\n",
       "      <td>08/16/2020</td>\n",
       "      <td>02/01/2020</td>\n",
       "      <td>08/15/2020</td>\n",
       "      <td>YC</td>\n",
       "      <td>Obesity</td>\n",
       "      <td>Obesity</td>\n",
       "      <td>E65-E68</td>\n",
       "      <td>0-24</td>\n",
       "      <td>NaN</td>\n",
       "      <td>NaN</td>\n",
       "    </tr>\n",
       "    <tr>\n",
       "      <th>12147</th>\n",
       "      <td>08/16/2020</td>\n",
       "      <td>02/01/2020</td>\n",
       "      <td>08/15/2020</td>\n",
       "      <td>YC</td>\n",
       "      <td>Obesity</td>\n",
       "      <td>Obesity</td>\n",
       "      <td>E65-E68</td>\n",
       "      <td>85+</td>\n",
       "      <td>NaN</td>\n",
       "      <td>NaN</td>\n",
       "    </tr>\n",
       "    <tr>\n",
       "      <th>12148</th>\n",
       "      <td>08/16/2020</td>\n",
       "      <td>02/01/2020</td>\n",
       "      <td>08/15/2020</td>\n",
       "      <td>YC</td>\n",
       "      <td>Obesity</td>\n",
       "      <td>Obesity</td>\n",
       "      <td>E65-E68</td>\n",
       "      <td>Not stated</td>\n",
       "      <td>NaN</td>\n",
       "      <td>NaN</td>\n",
       "    </tr>\n",
       "    <tr>\n",
       "      <th>12150</th>\n",
       "      <td>08/16/2020</td>\n",
       "      <td>02/01/2020</td>\n",
       "      <td>08/15/2020</td>\n",
       "      <td>YC</td>\n",
       "      <td>Alzheimer disease</td>\n",
       "      <td>Alzheimer disease</td>\n",
       "      <td>G30</td>\n",
       "      <td>0-24</td>\n",
       "      <td>NaN</td>\n",
       "      <td>NaN</td>\n",
       "    </tr>\n",
       "    <tr>\n",
       "      <th>12151</th>\n",
       "      <td>08/16/2020</td>\n",
       "      <td>02/01/2020</td>\n",
       "      <td>08/15/2020</td>\n",
       "      <td>YC</td>\n",
       "      <td>Alzheimer disease</td>\n",
       "      <td>Alzheimer disease</td>\n",
       "      <td>G30</td>\n",
       "      <td>25-34</td>\n",
       "      <td>NaN</td>\n",
       "      <td>NaN</td>\n",
       "    </tr>\n",
       "  </tbody>\n",
       "</table>\n",
       "</div>"
      ],
      "text/plain": [
       "       data_as_of  start_week    end_week state    condition_group  \\\n",
       "12140  08/16/2020  02/01/2020  08/15/2020    YC            Obesity   \n",
       "12147  08/16/2020  02/01/2020  08/15/2020    YC            Obesity   \n",
       "12148  08/16/2020  02/01/2020  08/15/2020    YC            Obesity   \n",
       "12150  08/16/2020  02/01/2020  08/15/2020    YC  Alzheimer disease   \n",
       "12151  08/16/2020  02/01/2020  08/15/2020    YC  Alzheimer disease   \n",
       "\n",
       "               condition icd10_codes   age_group  number_of_covid_19_deaths  \\\n",
       "12140            Obesity     E65-E68        0-24                        NaN   \n",
       "12147            Obesity     E65-E68         85+                        NaN   \n",
       "12148            Obesity     E65-E68  Not stated                        NaN   \n",
       "12150  Alzheimer disease         G30        0-24                        NaN   \n",
       "12151  Alzheimer disease         G30       25-34                        NaN   \n",
       "\n",
       "      flag  \n",
       "12140  NaN  \n",
       "12147  NaN  \n",
       "12148  NaN  \n",
       "12150  NaN  \n",
       "12151  NaN  "
      ]
     },
     "execution_count": 8,
     "metadata": {},
     "output_type": "execute_result"
    }
   ],
   "source": [
    "conditions[(conditions.number_of_covid_19_deaths.isnull())].head()"
   ]
  },
  {
   "cell_type": "markdown",
   "metadata": {},
   "source": [
    "Keep the US as state only."
   ]
  },
  {
   "cell_type": "code",
   "execution_count": 9,
   "metadata": {},
   "outputs": [],
   "source": [
    "conditions = conditions[(conditions.state == 'US')]"
   ]
  },
  {
   "cell_type": "markdown",
   "metadata": {},
   "source": [
    "Get a dataset with states, conditions and number of deaths."
   ]
  },
  {
   "cell_type": "code",
   "execution_count": 10,
   "metadata": {},
   "outputs": [],
   "source": [
    "conditions_all_ages = conditions[conditions.age_group == \"All ages\"].reset_index(drop=True)\n",
    "conditions_deaths = conditions_all_ages[['condition','number_of_covid_19_deaths']].reset_index(drop=True)"
   ]
  },
  {
   "cell_type": "markdown",
   "metadata": {},
   "source": [
    "Get a dataset with states, conditions and number of deaths by age groups."
   ]
  },
  {
   "cell_type": "code",
   "execution_count": 11,
   "metadata": {},
   "outputs": [],
   "source": [
    "conditions_by_ages = conditions[conditions.age_group != \"All ages\"].reset_index(drop=True)\n",
    "conditions_ages_deaths = conditions_by_ages[['condition','age_group','number_of_covid_19_deaths']].reset_index(drop=True)"
   ]
  },
  {
   "cell_type": "code",
   "execution_count": 12,
   "metadata": {},
   "outputs": [
    {
     "data": {
      "text/html": [
       "<div>\n",
       "<style scoped>\n",
       "    .dataframe tbody tr th:only-of-type {\n",
       "        vertical-align: middle;\n",
       "    }\n",
       "\n",
       "    .dataframe tbody tr th {\n",
       "        vertical-align: top;\n",
       "    }\n",
       "\n",
       "    .dataframe thead th {\n",
       "        text-align: right;\n",
       "    }\n",
       "</style>\n",
       "<table border=\"1\" class=\"dataframe\">\n",
       "  <thead>\n",
       "    <tr style=\"text-align: right;\">\n",
       "      <th></th>\n",
       "      <th>condition</th>\n",
       "      <th>number_of_covid_19_deaths</th>\n",
       "    </tr>\n",
       "  </thead>\n",
       "  <tbody>\n",
       "    <tr>\n",
       "      <th>0</th>\n",
       "      <td>Influenza and pneumonia</td>\n",
       "      <td>64465.0</td>\n",
       "    </tr>\n",
       "    <tr>\n",
       "      <th>1</th>\n",
       "      <td>Chronic lower respiratory diseases</td>\n",
       "      <td>12947.0</td>\n",
       "    </tr>\n",
       "    <tr>\n",
       "      <th>2</th>\n",
       "      <td>Adult respiratory distress syndrome</td>\n",
       "      <td>21054.0</td>\n",
       "    </tr>\n",
       "    <tr>\n",
       "      <th>3</th>\n",
       "      <td>Respiratory failure</td>\n",
       "      <td>52045.0</td>\n",
       "    </tr>\n",
       "    <tr>\n",
       "      <th>4</th>\n",
       "      <td>Respiratory arrest</td>\n",
       "      <td>3158.0</td>\n",
       "    </tr>\n",
       "    <tr>\n",
       "      <th>5</th>\n",
       "      <td>Other diseases of the respiratory system</td>\n",
       "      <td>5311.0</td>\n",
       "    </tr>\n",
       "    <tr>\n",
       "      <th>6</th>\n",
       "      <td>Hypertensive diseases</td>\n",
       "      <td>33153.0</td>\n",
       "    </tr>\n",
       "    <tr>\n",
       "      <th>7</th>\n",
       "      <td>Ischemic heart disease</td>\n",
       "      <td>16963.0</td>\n",
       "    </tr>\n",
       "    <tr>\n",
       "      <th>8</th>\n",
       "      <td>Cardiac arrest</td>\n",
       "      <td>19432.0</td>\n",
       "    </tr>\n",
       "    <tr>\n",
       "      <th>9</th>\n",
       "      <td>Cardiac arrhythmia</td>\n",
       "      <td>9254.0</td>\n",
       "    </tr>\n",
       "    <tr>\n",
       "      <th>10</th>\n",
       "      <td>Heart failure</td>\n",
       "      <td>10051.0</td>\n",
       "    </tr>\n",
       "    <tr>\n",
       "      <th>11</th>\n",
       "      <td>Cerebrovascular diseases</td>\n",
       "      <td>7244.0</td>\n",
       "    </tr>\n",
       "    <tr>\n",
       "      <th>12</th>\n",
       "      <td>Other diseases of the circulatory system</td>\n",
       "      <td>8236.0</td>\n",
       "    </tr>\n",
       "    <tr>\n",
       "      <th>13</th>\n",
       "      <td>Sepsis</td>\n",
       "      <td>13222.0</td>\n",
       "    </tr>\n",
       "    <tr>\n",
       "      <th>14</th>\n",
       "      <td>Malignant neoplasms</td>\n",
       "      <td>7003.0</td>\n",
       "    </tr>\n",
       "    <tr>\n",
       "      <th>15</th>\n",
       "      <td>Diabetes</td>\n",
       "      <td>24218.0</td>\n",
       "    </tr>\n",
       "    <tr>\n",
       "      <th>16</th>\n",
       "      <td>Obesity</td>\n",
       "      <td>5160.0</td>\n",
       "    </tr>\n",
       "    <tr>\n",
       "      <th>17</th>\n",
       "      <td>Alzheimer disease</td>\n",
       "      <td>5290.0</td>\n",
       "    </tr>\n",
       "    <tr>\n",
       "      <th>18</th>\n",
       "      <td>Vascular and unspecified dementia</td>\n",
       "      <td>17587.0</td>\n",
       "    </tr>\n",
       "    <tr>\n",
       "      <th>19</th>\n",
       "      <td>Renal failure</td>\n",
       "      <td>12897.0</td>\n",
       "    </tr>\n",
       "    <tr>\n",
       "      <th>20</th>\n",
       "      <td>Intentional and unintentional injury, poisonin...</td>\n",
       "      <td>4794.0</td>\n",
       "    </tr>\n",
       "    <tr>\n",
       "      <th>21</th>\n",
       "      <td>All other conditions and causes (residual)</td>\n",
       "      <td>73546.0</td>\n",
       "    </tr>\n",
       "    <tr>\n",
       "      <th>22</th>\n",
       "      <td>COVID-19</td>\n",
       "      <td>153504.0</td>\n",
       "    </tr>\n",
       "  </tbody>\n",
       "</table>\n",
       "</div>"
      ],
      "text/plain": [
       "                                            condition  \\\n",
       "0                             Influenza and pneumonia   \n",
       "1                  Chronic lower respiratory diseases   \n",
       "2                 Adult respiratory distress syndrome   \n",
       "3                                 Respiratory failure   \n",
       "4                                  Respiratory arrest   \n",
       "5            Other diseases of the respiratory system   \n",
       "6                               Hypertensive diseases   \n",
       "7                              Ischemic heart disease   \n",
       "8                                      Cardiac arrest   \n",
       "9                                  Cardiac arrhythmia   \n",
       "10                                      Heart failure   \n",
       "11                           Cerebrovascular diseases   \n",
       "12           Other diseases of the circulatory system   \n",
       "13                                             Sepsis   \n",
       "14                                Malignant neoplasms   \n",
       "15                                           Diabetes   \n",
       "16                                            Obesity   \n",
       "17                                  Alzheimer disease   \n",
       "18                  Vascular and unspecified dementia   \n",
       "19                                      Renal failure   \n",
       "20  Intentional and unintentional injury, poisonin...   \n",
       "21         All other conditions and causes (residual)   \n",
       "22                                           COVID-19   \n",
       "\n",
       "    number_of_covid_19_deaths  \n",
       "0                     64465.0  \n",
       "1                     12947.0  \n",
       "2                     21054.0  \n",
       "3                     52045.0  \n",
       "4                      3158.0  \n",
       "5                      5311.0  \n",
       "6                     33153.0  \n",
       "7                     16963.0  \n",
       "8                     19432.0  \n",
       "9                      9254.0  \n",
       "10                    10051.0  \n",
       "11                     7244.0  \n",
       "12                     8236.0  \n",
       "13                    13222.0  \n",
       "14                     7003.0  \n",
       "15                    24218.0  \n",
       "16                     5160.0  \n",
       "17                     5290.0  \n",
       "18                    17587.0  \n",
       "19                    12897.0  \n",
       "20                     4794.0  \n",
       "21                    73546.0  \n",
       "22                   153504.0  "
      ]
     },
     "execution_count": 12,
     "metadata": {},
     "output_type": "execute_result"
    }
   ],
   "source": [
    "conditions_deaths"
   ]
  },
  {
   "cell_type": "code",
   "execution_count": 13,
   "metadata": {},
   "outputs": [
    {
     "data": {
      "text/plain": [
       "(207, 3)"
      ]
     },
     "execution_count": 13,
     "metadata": {},
     "output_type": "execute_result"
    }
   ],
   "source": [
    "conditions_ages_deaths.shape"
   ]
  },
  {
   "cell_type": "code",
   "execution_count": 14,
   "metadata": {},
   "outputs": [],
   "source": [
    "conditions_deaths.to_csv('conditions_deaths.csv', index = False)"
   ]
  },
  {
   "cell_type": "code",
   "execution_count": 15,
   "metadata": {},
   "outputs": [],
   "source": [
    "conditions_ages_deaths.to_csv('conditions_ages_deaths.csv', index = False)"
   ]
  },
  {
   "cell_type": "markdown",
   "metadata": {},
   "source": [
    "## Deaths involving coronavirus disease 2019 (COVID-19), pneumonia, and influenza reported to NCHS by sex and age group and state."
   ]
  },
  {
   "cell_type": "code",
   "execution_count": 16,
   "metadata": {},
   "outputs": [],
   "source": [
    "df = pd.read_csv('Provisional_COVID-19_Death_Counts_by_Sex__Age__and_State.csv')"
   ]
  },
  {
   "cell_type": "code",
   "execution_count": 17,
   "metadata": {},
   "outputs": [
    {
     "data": {
      "text/html": [
       "<div>\n",
       "<style scoped>\n",
       "    .dataframe tbody tr th:only-of-type {\n",
       "        vertical-align: middle;\n",
       "    }\n",
       "\n",
       "    .dataframe tbody tr th {\n",
       "        vertical-align: top;\n",
       "    }\n",
       "\n",
       "    .dataframe thead th {\n",
       "        text-align: right;\n",
       "    }\n",
       "</style>\n",
       "<table border=\"1\" class=\"dataframe\">\n",
       "  <thead>\n",
       "    <tr style=\"text-align: right;\">\n",
       "      <th></th>\n",
       "      <th>Data as of</th>\n",
       "      <th>Start week</th>\n",
       "      <th>End Week</th>\n",
       "      <th>State</th>\n",
       "      <th>Sex</th>\n",
       "      <th>Age group</th>\n",
       "      <th>COVID-19 Deaths</th>\n",
       "      <th>Total Deaths</th>\n",
       "      <th>Pneumonia Deaths</th>\n",
       "      <th>Pneumonia and COVID-19 Deaths</th>\n",
       "      <th>Influenza Deaths</th>\n",
       "      <th>Pneumonia, Influenza, or COVID-19 Deaths</th>\n",
       "      <th>Footnote</th>\n",
       "    </tr>\n",
       "  </thead>\n",
       "  <tbody>\n",
       "    <tr>\n",
       "      <th>0</th>\n",
       "      <td>08/19/2020</td>\n",
       "      <td>02/01/2020</td>\n",
       "      <td>08/15/2020</td>\n",
       "      <td>United States</td>\n",
       "      <td>All</td>\n",
       "      <td>Under 1 year</td>\n",
       "      <td>17.0</td>\n",
       "      <td>9514.0</td>\n",
       "      <td>87.0</td>\n",
       "      <td>2.0</td>\n",
       "      <td>16.0</td>\n",
       "      <td>118.0</td>\n",
       "      <td>NaN</td>\n",
       "    </tr>\n",
       "    <tr>\n",
       "      <th>1</th>\n",
       "      <td>08/19/2020</td>\n",
       "      <td>02/01/2020</td>\n",
       "      <td>08/15/2020</td>\n",
       "      <td>United States</td>\n",
       "      <td>All</td>\n",
       "      <td>1-4 years</td>\n",
       "      <td>12.0</td>\n",
       "      <td>1840.0</td>\n",
       "      <td>61.0</td>\n",
       "      <td>2.0</td>\n",
       "      <td>41.0</td>\n",
       "      <td>112.0</td>\n",
       "      <td>NaN</td>\n",
       "    </tr>\n",
       "    <tr>\n",
       "      <th>2</th>\n",
       "      <td>08/19/2020</td>\n",
       "      <td>02/01/2020</td>\n",
       "      <td>08/15/2020</td>\n",
       "      <td>United States</td>\n",
       "      <td>All</td>\n",
       "      <td>5-14 years</td>\n",
       "      <td>27.0</td>\n",
       "      <td>2820.0</td>\n",
       "      <td>92.0</td>\n",
       "      <td>8.0</td>\n",
       "      <td>51.0</td>\n",
       "      <td>162.0</td>\n",
       "      <td>NaN</td>\n",
       "    </tr>\n",
       "    <tr>\n",
       "      <th>3</th>\n",
       "      <td>08/19/2020</td>\n",
       "      <td>02/01/2020</td>\n",
       "      <td>08/15/2020</td>\n",
       "      <td>United States</td>\n",
       "      <td>All</td>\n",
       "      <td>15-24 years</td>\n",
       "      <td>264.0</td>\n",
       "      <td>17838.0</td>\n",
       "      <td>356.0</td>\n",
       "      <td>90.0</td>\n",
       "      <td>52.0</td>\n",
       "      <td>578.0</td>\n",
       "      <td>NaN</td>\n",
       "    </tr>\n",
       "    <tr>\n",
       "      <th>4</th>\n",
       "      <td>08/19/2020</td>\n",
       "      <td>02/01/2020</td>\n",
       "      <td>08/15/2020</td>\n",
       "      <td>United States</td>\n",
       "      <td>All</td>\n",
       "      <td>25-34 years</td>\n",
       "      <td>1201.0</td>\n",
       "      <td>37040.0</td>\n",
       "      <td>1364.0</td>\n",
       "      <td>532.0</td>\n",
       "      <td>150.0</td>\n",
       "      <td>2169.0</td>\n",
       "      <td>NaN</td>\n",
       "    </tr>\n",
       "  </tbody>\n",
       "</table>\n",
       "</div>"
      ],
      "text/plain": [
       "   Data as of  Start week    End Week          State  Sex     Age group  \\\n",
       "0  08/19/2020  02/01/2020  08/15/2020  United States  All  Under 1 year   \n",
       "1  08/19/2020  02/01/2020  08/15/2020  United States  All     1-4 years   \n",
       "2  08/19/2020  02/01/2020  08/15/2020  United States  All    5-14 years   \n",
       "3  08/19/2020  02/01/2020  08/15/2020  United States  All   15-24 years   \n",
       "4  08/19/2020  02/01/2020  08/15/2020  United States  All   25-34 years   \n",
       "\n",
       "   COVID-19 Deaths  Total Deaths  Pneumonia Deaths  \\\n",
       "0             17.0        9514.0              87.0   \n",
       "1             12.0        1840.0              61.0   \n",
       "2             27.0        2820.0              92.0   \n",
       "3            264.0       17838.0             356.0   \n",
       "4           1201.0       37040.0            1364.0   \n",
       "\n",
       "   Pneumonia and COVID-19 Deaths  Influenza Deaths  \\\n",
       "0                            2.0              16.0   \n",
       "1                            2.0              41.0   \n",
       "2                            8.0              51.0   \n",
       "3                           90.0              52.0   \n",
       "4                          532.0             150.0   \n",
       "\n",
       "   Pneumonia, Influenza, or COVID-19 Deaths Footnote  \n",
       "0                                     118.0      NaN  \n",
       "1                                     112.0      NaN  \n",
       "2                                     162.0      NaN  \n",
       "3                                     578.0      NaN  \n",
       "4                                    2169.0      NaN  "
      ]
     },
     "execution_count": 17,
     "metadata": {},
     "output_type": "execute_result"
    }
   ],
   "source": [
    "df.head()"
   ]
  },
  {
   "cell_type": "code",
   "execution_count": 18,
   "metadata": {},
   "outputs": [
    {
     "data": {
      "text/html": [
       "<div>\n",
       "<style scoped>\n",
       "    .dataframe tbody tr th:only-of-type {\n",
       "        vertical-align: middle;\n",
       "    }\n",
       "\n",
       "    .dataframe tbody tr th {\n",
       "        vertical-align: top;\n",
       "    }\n",
       "\n",
       "    .dataframe thead th {\n",
       "        text-align: right;\n",
       "    }\n",
       "</style>\n",
       "<table border=\"1\" class=\"dataframe\">\n",
       "  <thead>\n",
       "    <tr style=\"text-align: right;\">\n",
       "      <th></th>\n",
       "      <th>data_as_of</th>\n",
       "      <th>start_week</th>\n",
       "      <th>end_week</th>\n",
       "      <th>state</th>\n",
       "      <th>sex</th>\n",
       "      <th>age_group</th>\n",
       "      <th>covid19_deaths</th>\n",
       "      <th>total_deaths</th>\n",
       "      <th>pneumonia_deaths</th>\n",
       "      <th>pneumonia_and_covid19_deaths</th>\n",
       "      <th>influenza_deaths</th>\n",
       "      <th>pneumonia_influenza_or_covid19_deaths</th>\n",
       "      <th>footnote</th>\n",
       "    </tr>\n",
       "  </thead>\n",
       "  <tbody>\n",
       "    <tr>\n",
       "      <th>0</th>\n",
       "      <td>08/19/2020</td>\n",
       "      <td>02/01/2020</td>\n",
       "      <td>08/15/2020</td>\n",
       "      <td>United States</td>\n",
       "      <td>All</td>\n",
       "      <td>Under 1 year</td>\n",
       "      <td>17.0</td>\n",
       "      <td>9514.0</td>\n",
       "      <td>87.0</td>\n",
       "      <td>2.0</td>\n",
       "      <td>16.0</td>\n",
       "      <td>118.0</td>\n",
       "      <td>NaN</td>\n",
       "    </tr>\n",
       "    <tr>\n",
       "      <th>1</th>\n",
       "      <td>08/19/2020</td>\n",
       "      <td>02/01/2020</td>\n",
       "      <td>08/15/2020</td>\n",
       "      <td>United States</td>\n",
       "      <td>All</td>\n",
       "      <td>1-4 years</td>\n",
       "      <td>12.0</td>\n",
       "      <td>1840.0</td>\n",
       "      <td>61.0</td>\n",
       "      <td>2.0</td>\n",
       "      <td>41.0</td>\n",
       "      <td>112.0</td>\n",
       "      <td>NaN</td>\n",
       "    </tr>\n",
       "    <tr>\n",
       "      <th>2</th>\n",
       "      <td>08/19/2020</td>\n",
       "      <td>02/01/2020</td>\n",
       "      <td>08/15/2020</td>\n",
       "      <td>United States</td>\n",
       "      <td>All</td>\n",
       "      <td>5-14 years</td>\n",
       "      <td>27.0</td>\n",
       "      <td>2820.0</td>\n",
       "      <td>92.0</td>\n",
       "      <td>8.0</td>\n",
       "      <td>51.0</td>\n",
       "      <td>162.0</td>\n",
       "      <td>NaN</td>\n",
       "    </tr>\n",
       "    <tr>\n",
       "      <th>3</th>\n",
       "      <td>08/19/2020</td>\n",
       "      <td>02/01/2020</td>\n",
       "      <td>08/15/2020</td>\n",
       "      <td>United States</td>\n",
       "      <td>All</td>\n",
       "      <td>15-24 years</td>\n",
       "      <td>264.0</td>\n",
       "      <td>17838.0</td>\n",
       "      <td>356.0</td>\n",
       "      <td>90.0</td>\n",
       "      <td>52.0</td>\n",
       "      <td>578.0</td>\n",
       "      <td>NaN</td>\n",
       "    </tr>\n",
       "    <tr>\n",
       "      <th>4</th>\n",
       "      <td>08/19/2020</td>\n",
       "      <td>02/01/2020</td>\n",
       "      <td>08/15/2020</td>\n",
       "      <td>United States</td>\n",
       "      <td>All</td>\n",
       "      <td>25-34 years</td>\n",
       "      <td>1201.0</td>\n",
       "      <td>37040.0</td>\n",
       "      <td>1364.0</td>\n",
       "      <td>532.0</td>\n",
       "      <td>150.0</td>\n",
       "      <td>2169.0</td>\n",
       "      <td>NaN</td>\n",
       "    </tr>\n",
       "  </tbody>\n",
       "</table>\n",
       "</div>"
      ],
      "text/plain": [
       "   data_as_of  start_week    end_week          state  sex     age_group  \\\n",
       "0  08/19/2020  02/01/2020  08/15/2020  United States  All  Under 1 year   \n",
       "1  08/19/2020  02/01/2020  08/15/2020  United States  All     1-4 years   \n",
       "2  08/19/2020  02/01/2020  08/15/2020  United States  All    5-14 years   \n",
       "3  08/19/2020  02/01/2020  08/15/2020  United States  All   15-24 years   \n",
       "4  08/19/2020  02/01/2020  08/15/2020  United States  All   25-34 years   \n",
       "\n",
       "   covid19_deaths  total_deaths  pneumonia_deaths  \\\n",
       "0            17.0        9514.0              87.0   \n",
       "1            12.0        1840.0              61.0   \n",
       "2            27.0        2820.0              92.0   \n",
       "3           264.0       17838.0             356.0   \n",
       "4          1201.0       37040.0            1364.0   \n",
       "\n",
       "   pneumonia_and_covid19_deaths  influenza_deaths  \\\n",
       "0                           2.0              16.0   \n",
       "1                           2.0              41.0   \n",
       "2                           8.0              51.0   \n",
       "3                          90.0              52.0   \n",
       "4                         532.0             150.0   \n",
       "\n",
       "   pneumonia_influenza_or_covid19_deaths footnote  \n",
       "0                                  118.0      NaN  \n",
       "1                                  112.0      NaN  \n",
       "2                                  162.0      NaN  \n",
       "3                                  578.0      NaN  \n",
       "4                                 2169.0      NaN  "
      ]
     },
     "execution_count": 18,
     "metadata": {},
     "output_type": "execute_result"
    }
   ],
   "source": [
    "#rename the columns\n",
    "df.columns = ['data_as_of', 'start_week', 'end_week', 'state',\n",
    "                     'sex', 'age_group', 'covid19_deaths', 'total_deaths',\n",
    "                     'pneumonia_deaths', 'pneumonia_and_covid19_deaths',\n",
    "                     'influenza_deaths', 'pneumonia_influenza_or_covid19_deaths',\n",
    "                     'footnote']\n",
    "\n",
    "df.head()"
   ]
  },
  {
   "cell_type": "code",
   "execution_count": 19,
   "metadata": {},
   "outputs": [
    {
     "data": {
      "text/plain": [
       "(1416, 13)"
      ]
     },
     "execution_count": 19,
     "metadata": {},
     "output_type": "execute_result"
    }
   ],
   "source": [
    "df.shape"
   ]
  },
  {
   "cell_type": "code",
   "execution_count": 20,
   "metadata": {},
   "outputs": [
    {
     "data": {
      "text/plain": [
       "array(['08/19/2020'], dtype=object)"
      ]
     },
     "execution_count": 20,
     "metadata": {},
     "output_type": "execute_result"
    }
   ],
   "source": [
    "df.data_as_of.unique()"
   ]
  },
  {
   "cell_type": "code",
   "execution_count": 21,
   "metadata": {},
   "outputs": [
    {
     "data": {
      "text/plain": [
       "array(['02/01/2020'], dtype=object)"
      ]
     },
     "execution_count": 21,
     "metadata": {},
     "output_type": "execute_result"
    }
   ],
   "source": [
    "df.start_week.unique()"
   ]
  },
  {
   "cell_type": "code",
   "execution_count": 22,
   "metadata": {},
   "outputs": [
    {
     "data": {
      "text/plain": [
       "array(['08/15/2020'], dtype=object)"
      ]
     },
     "execution_count": 22,
     "metadata": {},
     "output_type": "execute_result"
    }
   ],
   "source": [
    "df.end_week.unique()"
   ]
  },
  {
   "cell_type": "code",
   "execution_count": 23,
   "metadata": {},
   "outputs": [
    {
     "data": {
      "text/plain": [
       "array(['United States', 'United States Total', 'Alabama', 'Alabama Total',\n",
       "       'Alaska', 'Alaska Total', 'Arizona', 'Arizona Total', 'Arkansas',\n",
       "       'Arkansas Total', 'California', 'California Total', 'Colorado',\n",
       "       'Colorado Total', 'Connecticut', 'Connecticut Total', 'Delaware',\n",
       "       'Delaware Total', 'District of Columbia',\n",
       "       'District of Columbia Total', 'Florida', 'Florida Total',\n",
       "       'Georgia', 'Georgia Total', 'Hawaii', 'Hawaii Total', 'Idaho',\n",
       "       'Idaho Total', 'Illinois', 'Illinois Total', 'Indiana',\n",
       "       'Indiana Total', 'Iowa', 'Iowa Total', 'Kansas', 'Kansas Total',\n",
       "       'Kentucky', 'Kentucky Total', 'Louisiana', 'Louisiana Total',\n",
       "       'Maine', 'Maine Total', 'Maryland', 'Maryland Total',\n",
       "       'Massachusetts', 'Massachusetts Total', 'Michigan',\n",
       "       'Michigan Total', 'Minnesota', 'Minnesota Total', 'Mississippi',\n",
       "       'Mississippi Total', 'Missouri', 'Missouri Total', 'Montana',\n",
       "       'Montana Total', 'Nebraska', 'Nebraska Total', 'Nevada',\n",
       "       'Nevada Total', 'New Hampshire', 'New Hampshire Total',\n",
       "       'New Jersey', 'New Jersey Total', 'New Mexico', 'New Mexico Total',\n",
       "       'New York', 'New York Total', 'New York City',\n",
       "       'New York City Total', 'North Carolina', 'North Carolina Total',\n",
       "       'North Dakota', 'North Dakota Total', 'Ohio', 'Ohio Total',\n",
       "       'Oklahoma', 'Oklahoma Total', 'Oregon', 'Oregon Total',\n",
       "       'Pennsylvania', 'Pennsylvania Total', 'Rhode Island',\n",
       "       'Rhode Island Total', 'South Carolina', 'South Carolina Total',\n",
       "       'South Dakota', 'South Dakota Total', 'Tennessee',\n",
       "       'Tennessee Total', 'Texas', 'Texas Total', 'Utah', 'Utah Total',\n",
       "       'Vermont', 'Vermont Total', 'Virginia', 'Virginia Total',\n",
       "       'Washington', 'Washington Total', 'West Virginia',\n",
       "       'West Virginia Total', 'Wisconsin', 'Wisconsin Total', 'Wyoming',\n",
       "       'Wyoming Total', 'Puerto Rico', 'Puerto Rico Total'], dtype=object)"
      ]
     },
     "execution_count": 23,
     "metadata": {},
     "output_type": "execute_result"
    }
   ],
   "source": [
    "df.state.unique()"
   ]
  },
  {
   "cell_type": "code",
   "execution_count": 24,
   "metadata": {},
   "outputs": [
    {
     "data": {
      "text/plain": [
       "array(['All', 'Male', 'Female', 'Unknown'], dtype=object)"
      ]
     },
     "execution_count": 24,
     "metadata": {},
     "output_type": "execute_result"
    }
   ],
   "source": [
    "df.sex.unique()"
   ]
  },
  {
   "cell_type": "code",
   "execution_count": 25,
   "metadata": {},
   "outputs": [
    {
     "data": {
      "text/plain": [
       "array(['Under 1 year', '1-4 years', '5-14 years', '15-24 years',\n",
       "       '25-34 years', '35-44 years', '45-54 years', '55-64 years',\n",
       "       '65-74 years', '75-84 years', '85 years and over', 'All ages'],\n",
       "      dtype=object)"
      ]
     },
     "execution_count": 25,
     "metadata": {},
     "output_type": "execute_result"
    }
   ],
   "source": [
    "df.age_group.unique()"
   ]
  },
  {
   "cell_type": "code",
   "execution_count": 26,
   "metadata": {},
   "outputs": [
    {
     "data": {
      "text/plain": [
       "array([nan,\n",
       "       'One or more data cells have counts between 1–9 and have been suppressed in accordance with NCHS confidentiality standards.'],\n",
       "      dtype=object)"
      ]
     },
     "execution_count": 26,
     "metadata": {},
     "output_type": "execute_result"
    }
   ],
   "source": [
    "df.footnote.unique()"
   ]
  },
  {
   "cell_type": "markdown",
   "metadata": {},
   "source": [
    "## COVID-19 Case_Surveillance"
   ]
  },
  {
   "cell_type": "code",
   "execution_count": 27,
   "metadata": {},
   "outputs": [
    {
     "name": "stderr",
     "output_type": "stream",
     "text": [
      "/home/nata/anaconda3/lib/python3.7/site-packages/IPython/core/interactiveshell.py:3049: DtypeWarning: Columns (1) have mixed types. Specify dtype option on import or set low_memory=False.\n",
      "  interactivity=interactivity, compiler=compiler, result=result)\n"
     ]
    }
   ],
   "source": [
    "df = pd.read_csv('COVID-19_Case_Surveillance_Public_Use_Data.csv')"
   ]
  },
  {
   "cell_type": "code",
   "execution_count": 28,
   "metadata": {},
   "outputs": [
    {
     "data": {
      "text/html": [
       "<div>\n",
       "<style scoped>\n",
       "    .dataframe tbody tr th:only-of-type {\n",
       "        vertical-align: middle;\n",
       "    }\n",
       "\n",
       "    .dataframe tbody tr th {\n",
       "        vertical-align: top;\n",
       "    }\n",
       "\n",
       "    .dataframe thead th {\n",
       "        text-align: right;\n",
       "    }\n",
       "</style>\n",
       "<table border=\"1\" class=\"dataframe\">\n",
       "  <thead>\n",
       "    <tr style=\"text-align: right;\">\n",
       "      <th></th>\n",
       "      <th>cdc_report_dt</th>\n",
       "      <th>pos_spec_dt</th>\n",
       "      <th>onset_dt</th>\n",
       "      <th>current_status</th>\n",
       "      <th>sex</th>\n",
       "      <th>age_group</th>\n",
       "      <th>Race and ethnicity (combined)</th>\n",
       "      <th>hosp_yn</th>\n",
       "      <th>icu_yn</th>\n",
       "      <th>death_yn</th>\n",
       "      <th>medcond_yn</th>\n",
       "    </tr>\n",
       "  </thead>\n",
       "  <tbody>\n",
       "    <tr>\n",
       "      <th>0</th>\n",
       "      <td>2020/07/03</td>\n",
       "      <td>NaN</td>\n",
       "      <td>NaN</td>\n",
       "      <td>Laboratory-confirmed case</td>\n",
       "      <td>Female</td>\n",
       "      <td>0 - 9 Years</td>\n",
       "      <td>American Indian/Alaska Native, Non-Hispanic</td>\n",
       "      <td>Missing</td>\n",
       "      <td>Missing</td>\n",
       "      <td>Missing</td>\n",
       "      <td>Missing</td>\n",
       "    </tr>\n",
       "    <tr>\n",
       "      <th>1</th>\n",
       "      <td>2020/05/27</td>\n",
       "      <td>NaN</td>\n",
       "      <td>NaN</td>\n",
       "      <td>Laboratory-confirmed case</td>\n",
       "      <td>Female</td>\n",
       "      <td>0 - 9 Years</td>\n",
       "      <td>American Indian/Alaska Native, Non-Hispanic</td>\n",
       "      <td>No</td>\n",
       "      <td>Missing</td>\n",
       "      <td>No</td>\n",
       "      <td>Missing</td>\n",
       "    </tr>\n",
       "    <tr>\n",
       "      <th>2</th>\n",
       "      <td>2020/06/06</td>\n",
       "      <td>NaN</td>\n",
       "      <td>NaN</td>\n",
       "      <td>Laboratory-confirmed case</td>\n",
       "      <td>Female</td>\n",
       "      <td>0 - 9 Years</td>\n",
       "      <td>American Indian/Alaska Native, Non-Hispanic</td>\n",
       "      <td>Missing</td>\n",
       "      <td>Missing</td>\n",
       "      <td>Missing</td>\n",
       "      <td>Missing</td>\n",
       "    </tr>\n",
       "    <tr>\n",
       "      <th>3</th>\n",
       "      <td>2020/06/28</td>\n",
       "      <td>NaN</td>\n",
       "      <td>NaN</td>\n",
       "      <td>Laboratory-confirmed case</td>\n",
       "      <td>Female</td>\n",
       "      <td>0 - 9 Years</td>\n",
       "      <td>American Indian/Alaska Native, Non-Hispanic</td>\n",
       "      <td>Missing</td>\n",
       "      <td>Missing</td>\n",
       "      <td>Missing</td>\n",
       "      <td>Missing</td>\n",
       "    </tr>\n",
       "    <tr>\n",
       "      <th>4</th>\n",
       "      <td>2020/07/06</td>\n",
       "      <td>NaN</td>\n",
       "      <td>NaN</td>\n",
       "      <td>Laboratory-confirmed case</td>\n",
       "      <td>Female</td>\n",
       "      <td>0 - 9 Years</td>\n",
       "      <td>American Indian/Alaska Native, Non-Hispanic</td>\n",
       "      <td>Missing</td>\n",
       "      <td>Missing</td>\n",
       "      <td>Missing</td>\n",
       "      <td>Missing</td>\n",
       "    </tr>\n",
       "  </tbody>\n",
       "</table>\n",
       "</div>"
      ],
      "text/plain": [
       "  cdc_report_dt pos_spec_dt onset_dt             current_status     sex  \\\n",
       "0    2020/07/03         NaN      NaN  Laboratory-confirmed case  Female   \n",
       "1    2020/05/27         NaN      NaN  Laboratory-confirmed case  Female   \n",
       "2    2020/06/06         NaN      NaN  Laboratory-confirmed case  Female   \n",
       "3    2020/06/28         NaN      NaN  Laboratory-confirmed case  Female   \n",
       "4    2020/07/06         NaN      NaN  Laboratory-confirmed case  Female   \n",
       "\n",
       "     age_group                Race and ethnicity (combined)  hosp_yn   icu_yn  \\\n",
       "0  0 - 9 Years  American Indian/Alaska Native, Non-Hispanic  Missing  Missing   \n",
       "1  0 - 9 Years  American Indian/Alaska Native, Non-Hispanic       No  Missing   \n",
       "2  0 - 9 Years  American Indian/Alaska Native, Non-Hispanic  Missing  Missing   \n",
       "3  0 - 9 Years  American Indian/Alaska Native, Non-Hispanic  Missing  Missing   \n",
       "4  0 - 9 Years  American Indian/Alaska Native, Non-Hispanic  Missing  Missing   \n",
       "\n",
       "  death_yn medcond_yn  \n",
       "0  Missing    Missing  \n",
       "1       No    Missing  \n",
       "2  Missing    Missing  \n",
       "3  Missing    Missing  \n",
       "4  Missing    Missing  "
      ]
     },
     "execution_count": 28,
     "metadata": {},
     "output_type": "execute_result"
    }
   ],
   "source": [
    "df.head()"
   ]
  },
  {
   "cell_type": "code",
   "execution_count": 30,
   "metadata": {},
   "outputs": [
    {
     "data": {
      "text/plain": [
       "Laboratory-confirmed case    2552919\n",
       "Probable Case                 115256\n",
       "Name: current_status, dtype: int64"
      ]
     },
     "execution_count": 30,
     "metadata": {},
     "output_type": "execute_result"
    }
   ],
   "source": [
    "df.current_status.value_counts()"
   ]
  },
  {
   "cell_type": "code",
   "execution_count": 32,
   "metadata": {},
   "outputs": [
    {
     "data": {
      "text/plain": [
       "Female     1342585\n",
       "Male       1266997\n",
       "Missing      31730\n",
       "Unknown      26760\n",
       "Other           84\n",
       "Name: sex, dtype: int64"
      ]
     },
     "execution_count": 32,
     "metadata": {},
     "output_type": "execute_result"
    }
   ],
   "source": [
    "df.sex.value_counts()"
   ]
  },
  {
   "cell_type": "code",
   "execution_count": 34,
   "metadata": {},
   "outputs": [
    {
     "data": {
      "text/plain": [
       "20 - 29 Years    468471\n",
       "30 - 39 Years    450637\n",
       "40 - 49 Years    428478\n",
       "50 - 59 Years    427865\n",
       "60 - 69 Years    307648\n",
       "80+ Years        177459\n",
       "70 - 79 Years    175515\n",
       "10 - 19 Years    161352\n",
       "0 - 9 Years       67700\n",
       "Unknown            2969\n",
       "Name: age_group, dtype: int64"
      ]
     },
     "execution_count": 34,
     "metadata": {},
     "output_type": "execute_result"
    }
   ],
   "source": [
    "df.age_group.value_counts()"
   ]
  },
  {
   "cell_type": "code",
   "execution_count": 35,
   "metadata": {},
   "outputs": [
    {
     "data": {
      "text/plain": [
       "Missing    1614971\n",
       "Unknown     465752\n",
       "Yes         386032\n",
       "No          201420\n",
       "Name: medcond_yn, dtype: int64"
      ]
     },
     "execution_count": 35,
     "metadata": {},
     "output_type": "execute_result"
    }
   ],
   "source": [
    "df.medcond_yn.value_counts()"
   ]
  },
  {
   "cell_type": "code",
   "execution_count": 36,
   "metadata": {},
   "outputs": [
    {
     "data": {
      "text/plain": [
       "Index(['cdc_report_dt', 'pos_spec_dt', 'onset_dt', 'current_status', 'sex',\n",
       "       'age_group', 'Race and ethnicity (combined)', 'hosp_yn', 'icu_yn',\n",
       "       'death_yn', 'medcond_yn'],\n",
       "      dtype='object')"
      ]
     },
     "execution_count": 36,
     "metadata": {},
     "output_type": "execute_result"
    }
   ],
   "source": [
    "df.columns"
   ]
  },
  {
   "cell_type": "code",
   "execution_count": null,
   "metadata": {},
   "outputs": [],
   "source": []
  }
 ],
 "metadata": {
  "kernelspec": {
   "display_name": "Python [conda env:root] *",
   "language": "python",
   "name": "conda-root-py"
  },
  "language_info": {
   "codemirror_mode": {
    "name": "ipython",
    "version": 3
   },
   "file_extension": ".py",
   "mimetype": "text/x-python",
   "name": "python",
   "nbconvert_exporter": "python",
   "pygments_lexer": "ipython3",
   "version": "3.7.3"
  }
 },
 "nbformat": 4,
 "nbformat_minor": 2
}
